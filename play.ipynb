{
 "metadata": {
  "language_info": {
   "codemirror_mode": {
    "name": "ipython",
    "version": 3
   },
   "file_extension": ".py",
   "mimetype": "text/x-python",
   "name": "python",
   "nbconvert_exporter": "python",
   "pygments_lexer": "ipython3",
   "version": 3
  },
  "orig_nbformat": 2
 },
 "nbformat": 4,
 "nbformat_minor": 2,
 "cells": [
  {
   "cell_type": "code",
   "execution_count": null,
   "source": [
    "import os\r\n",
    "\r\n",
    "if not os.path.exists('/content/SourceHanSansJP-VF.otf'):\r\n",
    "    !wget https://github.com/adobe-fonts/source-han-sans/raw/release/Variable/OTF/Subset/SourceHanSansJP-VF.otf\r\n",
    "if not os.path.exists('/content/nygssh-journey'):\r\n",
    "    !git clone https://github.com/NishiyamatoGakuenSSHTA/nygssh-journey.git\r\n",
    "%cd /content/nygssh-journey"
   ],
   "outputs": [],
   "metadata": {}
  },
  {
   "cell_type": "code",
   "execution_count": null,
   "source": [
    "import IPython\r\n",
    "from google.colab import output\r\n",
    "from IPython.display import display\r\n",
    "import numpy as np\r\n",
    "import cv2\r\n",
    "from io import BytesIO\r\n",
    "import base64\r\n",
    "from PIL import Image, ImageDraw, ImageFont\r\n",
    "from src.widgets import GameDisplay\r\n",
    "from src.charactors import CharaBase\r\n",
    "\r\n",
    "\r\n",
    "pos = {'x': 10, 'y': 10}\r\n",
    "\r\n",
    "display(GameDisplay())\r\n",
    "\r\n",
    "def input_btns(gotkey):\r\n",
    "    disp = np.ones((720, 400, 3), dtype=np.uint8)*255\r\n",
    "    disp[:, :, 0] = 0\r\n",
    "\r\n",
    "    disp[250:, :, :] = 0\r\n",
    "    disp[250:255] = 255\r\n",
    "\r\n",
    "    movements = {\r\n",
    "        \"left\": (-1, 0),\r\n",
    "        \"right\": (1, 0),\r\n",
    "        \"up\": (0, -1),\r\n",
    "        \"down\": (0, 1)\r\n",
    "    }\r\n",
    "\r\n",
    "    movx, movy = movements[gotkey]\r\n",
    "    pos['x'] += movx\r\n",
    "    pos['y'] += movy\r\n",
    "\r\n",
    "    disp[pos['y']-3:pos['y']+3, pos['x']-3:pos['x']+3, 1:] = 0\r\n",
    "\r\n",
    "    disp = cv2_putText(disp, \"TAがあらわれた\\naaa\", (10, 250), '/content/SourceHanSansJP-VF.otf' , 30, color='#FFFFFF')\r\n",
    "\r\n",
    "    _, encimg = cv2.imencode(\".jpg\", disp, [int(cv2.IMWRITE_JPEG_QUALITY), 80])\r\n",
    "    img_str = encimg.tobytes()\r\n",
    "    img_str = \"data:image/jpeg;base64,\" + base64.b64encode(img_str).decode('utf-8')\r\n",
    "    return IPython.display.JSON({'img_str': img_str})\r\n",
    "\r\n",
    "\r\n",
    "output.register_callback('notebook.updatadisplay', input_btns)"
   ],
   "outputs": [],
   "metadata": {}
  },
  {
   "cell_type": "code",
   "execution_count": null,
   "source": [],
   "outputs": [],
   "metadata": {}
  }
 ]
}