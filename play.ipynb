{
 "metadata": {
  "language_info": {
   "codemirror_mode": {
    "name": "ipython",
    "version": 3
   },
   "file_extension": ".py",
   "mimetype": "text/x-python",
   "name": "python",
   "nbconvert_exporter": "python",
   "pygments_lexer": "ipython3",
   "version": 3
  },
  "orig_nbformat": 2
 },
 "nbformat": 4,
 "nbformat_minor": 2,
 "cells": [
  {
   "cell_type": "code",
   "execution_count": null,
   "metadata": {},
   "outputs": [],
   "source": [
    "import os\n",
    "\n",
    "if not os.path.exists('/content/SourceHanSans-VF.otf'):\n",
    "    !wget https://raw.githubusercontent.com/adobe-fonts/source-han-sans/release/Variable/SourceHanSans-VF.otf \n",
    "if not os.path.exists('/content/nygssh-journey'):\n",
    "    !git clone https://github.com/NishiyamatoGakuenSSHTA/nygssh-journey.git\n",
    "%cd /content/nygssh-journey"
   ]
  },
  {
   "cell_type": "code",
   "execution_count": null,
   "metadata": {},
   "outputs": [],
   "source": [
    "import IPython\n",
    "from google.colab import output\n",
    "from IPython.display import HTML\n",
    "import numpy as np\n",
    "import cv2\n",
    "from io import BytesIO\n",
    "import base64\n",
    "from PIL import Image, ImageDraw, ImageFont\n",
    "from src.widgets import GameDisplay\n",
    "from src.charactors import CharaBase\n",
    "\n",
    "\n",
    "pos = {'x': 10, 'y': 10}\n",
    "\n",
    "GameDisplay()\n",
    "\n",
    "def input_btns(gotkey):\n",
    "    disp = np.ones((720, 400, 3), dtype=np.uint8)*255\n",
    "    disp[:, :, 0] = 0\n",
    "\n",
    "    disp[250:, :, :] = 0\n",
    "    disp[250:255] = 255\n",
    "\n",
    "    movx, movy = movements[gotkey]\n",
    "    pos['x'] += movx\n",
    "    pos['y'] += movy\n",
    "\n",
    "    disp[pos['y']-3:pos['y']+3, pos['x']-3:pos['x']+3, 1:] = 0\n",
    "\n",
    "    disp = cv2_putText(disp, \"TAがあらわれた\\naaa\", (10, 250), '/content/SourceHanSans-VF.otf' , 30, color='#FFFFFF')\n",
    "\n",
    "    _, encimg = cv2.imencode(\".jpg\", disp, [int(cv2.IMWRITE_JPEG_QUALITY), 80])\n",
    "    img_str = encimg.tobytes()\n",
    "    img_str = \"data:image/jpeg;base64,\" + base64.b64encode(img_str).decode('utf-8')\n",
    "    return IPython.display.JSON({'img_str': img_str})\n",
    "\n",
    "\n",
    "output.register_callback('notebook.updatadisplay', input_btns)"
   ]
  },
  {
   "cell_type": "code",
   "execution_count": null,
   "metadata": {},
   "outputs": [],
   "source": []
  }
 ]
}